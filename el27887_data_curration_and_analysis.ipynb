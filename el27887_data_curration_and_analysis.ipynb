{
 "cells": [
  {
   "cell_type": "markdown",
   "id": "17144635",
   "metadata": {},
   "source": [
    "# Step 1: Data extraction"
   ]
  },
  {
   "cell_type": "code",
   "execution_count": 184,
   "id": "6ab2773b",
   "metadata": {
    "scrolled": true
   },
   "outputs": [
    {
     "name": "stdout",
     "output_type": "stream",
     "text": [
      "BeautifulSoup and Pandas are already installed and imported\n"
     ]
    }
   ],
   "source": [
    "# tools\n",
    "try:\n",
    "    from bs4 import BeautifulSoup\n",
    "    import pandas\n",
    "    \n",
    "    print (\"BeautifulSoup and Pandas are already installed and imported\")\n",
    "except:\n",
    "    import sys\n",
    "    !conda install --yes --prefix {sys.prefix} bs4\n",
    "    !conda install --yes --prefix {sys.prefix} pandas\n",
    "    from bs4 import BeautifulSoup\n",
    "    import pandas\n",
    "    print (\"BeautifulSoup and Pandas were not found. Installed them and imported\")\n",
    "\n",
    "import numpy as np\n",
    "import matplotlib.pyplot as plt\n",
    "import urllib.request as url\n",
    "import csv \n",
    "import time"
   ]
  },
  {
   "cell_type": "code",
   "execution_count": 185,
   "id": "4f8ceb5b",
   "metadata": {
    "scrolled": false
   },
   "outputs": [
    {
     "name": "stdout",
     "output_type": "stream",
     "text": [
      "Webpage opened successfully...\n",
      "Webpage loaded and parsed successfully...\n"
     ]
    }
   ],
   "source": [
    "\n",
    "# options = webdriver.ChromeOptions()\n",
    "# # options.headless = True \n",
    "# options.add_argument(\"--headless\")\n",
    "# options.page_load_strategy = 'none' \n",
    "\n",
    "# chrome_path = ChromeDriverManager().install() \n",
    "# chrome_service = Service(chrome_path) \n",
    "\n",
    "# # Connect to the URL\n",
    "# browser = webdriver.Chrome(options = options, service=chrome_service)\n",
    "# browser.implicitly_wait(5)\n",
    "\n",
    "# browser.get(url)\n",
    "# time.sleep(10)\n",
    "\n",
    "# # Parse HTML and save to BeautifulSoup object\n",
    "# soup = BeautifulSoup(browser.page_source, \"lxml\")\n",
    "\n",
    "url = \"https://en.wikipedia.org/wiki/Tropical_cyclones_in_2020?ref=pylenin\"\n",
    "\n",
    "page = requests.get(url)\n",
    "print (\"Webpage opened successfully...\")\n",
    "\n",
    "soup = BeautifulSoup(page.content, \"html.parser\")\n",
    "print (\"Webpage loaded and parsed successfully...\")\n",
    "\n",
    "# lists = soup.find_all('section', class_='listing-search-item')\n",
    "# print(lists)\n",
    "# browser.quit()"
   ]
  },
  {
   "cell_type": "code",
   "execution_count": 186,
   "id": "ab5e197c",
   "metadata": {
    "scrolled": false
   },
   "outputs": [
    {
     "name": "stdout",
     "output_type": "stream",
     "text": [
      "<Response [200]>\n"
     ]
    }
   ],
   "source": [
    "print(page) "
   ]
  },
  {
   "cell_type": "markdown",
   "id": "cef8b145",
   "metadata": {},
   "source": [
    "An HTTP response status code of 200 represents a successful response."
   ]
  },
  {
   "cell_type": "markdown",
   "id": "63a15289",
   "metadata": {},
   "source": [
    "# Step 2: Data transformation and load"
   ]
  },
  {
   "cell_type": "markdown",
   "id": "85c8e222",
   "metadata": {},
   "source": [
    "The caption attribute stores the headers for the tables in the page. We want to see if there any any empty caption attributes and only keep the ones that have content in them."
   ]
  },
  {
   "cell_type": "code",
   "execution_count": 227,
   "id": "a549ea3d",
   "metadata": {},
   "outputs": [
    {
     "name": "stdout",
     "output_type": "stream",
     "text": [
      "['Storm name', 'Dates active', 'Max wind', 'Pressure', 'Areas affected', 'Damage', 'Deaths', 'Refs']\n"
     ]
    }
   ],
   "source": [
    "table = soup.find_all('table')\n",
    "filtered_table = [table for table in table_soup if table.caption is not None]\n",
    "\n",
    "final_table = []\n",
    "\n",
    "for table in filtered_table:\n",
    "    if table.caption is not None:\n",
    "        final_table.append(table)\n",
    "\n",
    "headers = [header.text.strip() for header in final_table[0].find_all('th')]\n",
    "headers[2] = \"Max wind\"\n",
    "headers[3] = \"Pressure\"\n",
    "headers[5] = \"Damage\"\n",
    "print(headers)"
   ]
  },
  {
   "cell_type": "code",
   "execution_count": 207,
   "id": "6b8f847e",
   "metadata": {
    "scrolled": true
   },
   "outputs": [
    {
     "name": "stdout",
     "output_type": "stream",
     "text": [
      "[['Blake', 'January 4–11', '75 (45)', '986', 'Western Australia', 'Minor', 'None', ''], ['Claudia', 'January 4–17', '150 (90)', '963', 'Eastern Indonesia, Top End, Kimberley', 'None', 'None', ''], ['Tino', 'January 11–20', '120 (75)', '970', 'Solomon Islands, Vanuatu, Fiji, Wallis and Futuna, Samoan Islands, Tuvalu, Tonga', '$5.83\\xa0million', '2', '[17]'], ['05', 'January 19–23', '55 (35)', '999', 'None', 'None', 'None', ''], ['Diane', 'January 22–26', '75 (45)', '990', 'Madagascar, Mauritius, Réunion', 'Unknown', '31', '[18]'], ['Kurumí', 'January 23–25', '65 (40)', '998', 'São Paulo, Minas Gerais, Espírito Santo, Rio de Janeiro', 'Unknown', '70', '[19]'], ['Esami', 'January 23–26', '85 (50)', '990', 'Rodrigues', 'None', 'None', ''], ['04U', 'January 23–30', 'Unspecified', '998', 'Northern Territory, Queensland', 'None', 'None', ''], ['05F', 'January 24–26', 'Unspecified', '1003', 'Samoan Islands', 'None', 'None', ''], ['TL', 'January 31 – February 4', 'Unspecified', '1007', 'Christmas Island, Cocos Islands', 'None', 'None', ''], ['Damien', 'February 2–11', '155 (100)', '955', 'Northern Australia, Kimberley', '$4.3\\xa0million', 'None', '[20]'], ['Uesi', 'February 3–15', '120 (75)', '970', 'Solomon Islands, Vanuatu, New Caledonia, Lord Howe Island, New Zealand, New South Wales, South East Queensland', 'Minor', '1', '[21]'], ['Francisco', 'February 3–15', '80 (50)', '994', 'Madagascar', 'Minor', '1', '[22]'], ['TL', 'February 6–8', 'Unspecified', '1007', 'Cocos Islands', 'None', 'None', ''], ['TL', 'February 13', 'Unspecified', '1009', 'None', 'None', 'None', ''], ['Gabekile', 'February 13–17', '165 (105)', '950', 'None', 'None', 'None', ''], ['07F', 'February 14–21', 'Unspecified', '998', 'Tuvalu, American Samoa, Tokelau', 'None', 'None', ''], ['TL', 'February 15–17', 'Unspecified', '1002', 'Solomon Islands', 'None', 'None', ''], ['08F', 'February 17–18', '65 (40)', '994', 'American Samoa, Niue', 'None', 'None', ''], ['Vicky', 'February 19–22', '85 (50)', '988', 'Samoan Islands, Niue', 'None', 'None', ''], ['Wasi', 'February 21–23', '85 (50)', '990', 'Wallis and Futuna, Samoan Islands', 'None', 'None', ''], ['Esther', 'February 21 – March 5', '75 (45)', '988', 'Far North Queensland, Northern Territory, Kimberley', 'None', 'None', ''], ['Ferdinand', 'February 22 – March 4', '155 (100)', '960', 'Lesser Sunda Islands', 'None', 'None', ''], ['09U', 'March 9–14', '75 (45)', '999', 'Java, Bali, West Nusa Tenggara Western Australia', 'None', 'None', ''], ['Gretel', 'March 10–17', '100 (65)', '980', 'Top End, New Guinea, Queensland, New Caledonia, Norfolk Island, New Zealand', 'None', 'None', ''], ['Herold', 'March 12–20', '175 (110)', '955', 'Madagascar, Tromelin Island', 'Unknown', '5', '[23]'], ['11U', 'March 29 – April 2', 'Unspecified', '1005', 'New Guinea, Cape York Peninsula', 'None', 'None', ''], ['Irondro', 'April 1–7', '175 (110)', '950', 'None', 'None', 'None', ''], ['Harold', 'April 1–11', '230 (145)', '920', 'Papua New Guinea, Solomon Islands, Vanuatu, Fiji, Tonga', '>$123.5\\xa0million', '≥30', '[24][25]'], ['TL', 'April 3', 'Unspecified', '1008', 'None', 'None', 'None', ''], ['Jeruto', 'April 10–16', '65 (40)', '999', 'None', 'None', 'None', ''], ['One-E', 'April 25–26', '55 (35)', '1006', 'None', 'None', 'None', ''], ['TD', 'May 3–10', '55 (35)', '1004', 'Mentawai Islands, Sumatra', 'None', 'None', ''], ['Vongfong (Ambo)', 'May 10–18', '155 (100)', '960', 'Palau, Philippines, Taiwan, Ryukyu Islands', '$50\\xa0million', '5', '[26]'], ['Amphan', 'May 16–21', '240 (150)', '920', 'Sri Lanka, Bangladesh, India, Bhutan', '>$13.6\\xa0billion', '128', '[27]'], ['Arthur', 'May 16–19', '95 (60)', '990', 'Cuba, Florida, The Bahamas, North Carolina, Bermuda', '$112.000', 'None', '[28]'], ['Mangga', 'May 19–23', '65 (40)', '995', 'Cocos Islands, Mentawai Islands, Sumatra, Western Australia', 'None', 'None', ''], ['Bertha', 'May 27–28', '85 (50)', '1004', 'Florida, Bahamas, East Coast of the United States', '$130,000', '1', '[29]'], ['ARB 01', 'May 29–31', '45 (30)', '1000', 'Oman, Yemen', 'Minimal', '3', '[30]'], ['Amanda & Cristobal', 'May 30 – June 10', '95 (60)', '992', 'Guatemala, El Salvador, Honduras, Belize, Costa Rica, Mexico, Gulf Coast of the United States, Midwestern United States, Eastern Canada', '$865\\xa0million', '55', '[31]'], ['Nisarga', 'June 1–4', '110 (70)', '984', 'West India', '$803\\xa0million', '6', '[citation needed]'], ['Nuri (Butchoy)', 'June 10–15', '75 (45)', '996', 'Philippines, China', 'Minimal', '1', '[citation needed]'], ['Dolly', 'June 22–24', '75 (45)', '1002', 'East Coast of the United States, Atlantic Canada', 'None', 'None', ''], ['Boris', 'June 24–28', '65 (40)', '1005', 'None', 'None', 'None', ''], ['Four-E', 'June 30', '55 (35)', '1004', 'None', 'None', 'None', ''], ['Edouard', 'July 4–6', '75 (45)', '1007', 'Bermuda, Ireland, United Kingdom, The Netherlands, Denmark, Poland, Russia', 'Minimal', 'None', '[citation needed]'], ['Cristina', 'July 6–13', '110 (70)', '993', 'Socorro Island', 'None', 'None', ''], ['Fay', 'July 9–11', '95 (60)', '998', 'Mid-Atlantic United States, New England', '$350\\xa0million', '6', '[citation needed]'], ['Carina', 'July 11–15', '55 (35)', '1004', 'Philippines, Taiwan', 'Minimal', 'None', '[citation needed]'], ['Six-E', 'July 13–14', '55 (35)', '1007', 'None', 'None', 'None', ''], ['Seven-E', 'July 20–21', '65 (40)', '1006', 'None', 'None', 'None', ''], ['Douglas', 'July 20–29', '215 (130)', '954', 'Hawaii', 'Minimal', 'None', '[citation needed]'], ['Gonzalo', 'July 21–25', '100 (65)', '997', 'Windward Islands, Trinidad and Tobago, Venezuela, Leeward Islands', 'Minimal', 'None', '[citation needed]'], ['Hanna', 'July 23–27', '150 (90)', '973', 'Hispaniola, Cuba, Gulf Coast of the United States, Mexico', '$1.2\\xa0billion', '9', '[citation needed]'], ['TD', 'July 27–30', 'Not specified', '1010', 'None', 'None', 'None', ''], ['Isaias', 'July 30 – August 5', '140 (85)', '987', 'Windward Islands, Puerto Rico, Hispaniola, Lucayan Archipelago, East Coast of the United States, Eastern Canada', '$4.8\\xa0billion', '18', '[citation needed]'], ['Hagupit (Dindo)', 'July 31 – August 5', '130 (80)', '975', 'Ryukyu Islands, Taiwan, East China', '$411\\xa0million', '17', '[citation needed]'], ['Sinlaku', 'July 31 – August 3', '65 (40)', '992', 'South China, Vietnam', '$12.9\\xa0million', '6', '[citation needed]'], ['Ten', 'July 31 – August 2', '55 (35)', '1007', 'West Africa, Cabo Verde Islands', 'None', 'None', ''], ['Jangmi (Enteng)', 'August 7–10', '85 (50)', '996', 'Philippines, Ryukyu Islands, Korean Peninsula', '$1\\xa0million', 'None', '[citation needed]'], ['Elida', 'August 9–13', '155 (100)', '975', 'Mexico, Socorro Island', 'None', 'None', ''], ['Mekkhala (Ferdie)', 'August 9–11', '95 (60)', '992', 'Philippines, Taiwan, East China', '$159\\xa0million', 'None', '[citation needed]'], ['Gener', 'August 9–13', '55 (35)', '1012', 'None', 'None', 'None', ''], ['Josephine', 'August 11–16', '75 (45)', '1004', 'Leeward Islands, Puerto Rico', 'None', 'None', ''], ['Ten-E', 'August 13–16', '55 (35)', '1004', 'None', 'None', 'None', ''], ['Kyle', 'August 14–16', '85 (50)', '1000', 'East Coast of the United States, United Kingdom, Ireland', 'None', 'None', ''], ['Fausto', 'August 16–17', '65 (40)', '1004', 'California', 'Minimal', '1', '[citation needed]'], ['Genevieve', 'August 16–21', '215 (130)', '950', 'Southwestern Mexico, Socorro Island, Baja California Peninsula', '$50\\xa0million', '6', '[citation needed]'], ['Higos (Helen)', 'August 16–20', '100 (65)', '992', 'Philippines, South China, Hong Kong', '$142\\xa0million', '7', '[citation needed]'], ['Laura', 'August 20–29', '240 (150)', '937', 'Lesser Antilles, Greater Antilles, The Bahamas, Gulf Coast of the United States, Midwestern United States, Eastern United States', '$19.1\\xa0billion', '77', '[citation needed]'], ['Marco', 'August 20–25', '120 (75)', '991', 'Windward Islands, South America, Jamaica, British Cayman Islands, Belize', '$10\\xa0million', '1', '[citation needed]'], ['Bavi (Igme)', 'August 21–27', '155 (100)', '950', 'Philippines, Ryukyu Islands, Taiwan, North Korea', '$11.7\\xa0million', '1', '[citation needed]'], ['Hernan', 'August 26–28', '75 (45)', '1001', 'Mexico, Baja California Peninsula', 'Minimal', 'None', '[citation needed]'], ['Iselle', 'August 26–30', '95 (60)', '997', 'Clarion Island', 'None', 'None', ''], ['Maysak (Julian)', 'August 27 – September 3', '175 (110)', '935', 'Philippines, Ryukyu Islands, Korean Peninsula', '$100\\xa0million', '32', '[citation needed]'], ['Haishen (Kristine)', 'August 31 – September 9', '195 (120)', '910', 'Mariana Islands, China, Japan, Korea', '$100\\xa0million', '4', '[citation needed]'], ['Omar', 'August 31 – September 5', '65 (40)', '1003', 'Southeastern United States', 'None', 'None', ''], ['Nana', 'September 1–4', '120 (75)', '994', 'Jamaica, Honduras, Belize, Guatemala', '$20\\xa0million', 'None', '[citation needed]'], ['Julio', 'September 5–7', '75 (45)', '1003', 'None', 'None', 'None', ''], ['Paulette', 'September 7–23', '165 (105)', '965', 'Bermuda, Azores, Madeira', '$50\\xa0million', '1', '[citation needed]'], ['Rene', 'September 7–14', '85 (50)', '1000', 'Senegal, Cabo Verde Islands', 'Minimal', 'None', '[citation needed]'], ['12W', 'September 10–12', '55 (35)', '1006', 'Bonin Islands', 'None', 'None', ''], ['Sally', 'September 11–17', '175 (110)', '965', 'The Bahamas, Cuba, U.S. Gulf Coast, Southeastern United States, Norway', '$7.3\\xa0billion', '8', '[citation needed]'], ['Teddy', 'September 12–23', '220 (140)', '945', 'Lesser Antilles, Bermuda, East Coast of the United States, Atlantic Canada', '$35\\xa0million', '3', '[citation needed]'], ['Karina', 'September 13–17', '95 (60)', '996', 'None', 'None', 'None', ''], ['Vicky', 'September 14–17', '85 (50)', '1000', 'Cape Verde', 'Minimal', '1', '[citation needed]'], ['Ianos', 'September 14–20', '120 (75)', '995', 'Malta, Italy, Greece, Libya', '$100\\xa0million', '5', '[citation needed]'], ['Noul (Leon)', 'September 14–19', '80 (50)', '994', 'Philippines, Vietnam, Cambodia', '$175\\xa0million', '18', '[citation needed]'], ['Alpha', 'September 17–19', '85 (50)', '996', 'Iberian Peninsula', '$2\\xa0million', '1', '[citation needed]'], ['Wilfred', 'September 17–21', '65 (40)', '1007', 'None', 'None', 'None', ''], ['Beta', 'September 17–23', '95 (60)', '994', 'Mexico, Texas', '$400\\xa0million', '1', '[citation needed]'], ['Dolphin (Marce)', 'September 20–24', '110 (70)', '975', 'None', 'None', 'None', ''], ['Lowell', 'September 20–25', '85 (50)', '1001', 'None', 'None', 'None', ''], ['Kujira', 'September 26–30', '110 (70)', '980', 'None', 'None', 'None', ''], ['TD', 'September 27–29', '55 (35)', '1000', 'None', 'None', 'None', ''], ['Marie', 'September 29 – October 7', '220 (140)', '945', 'None', 'None', 'None', ''], ['Gamma', 'October 2–6', '120 (75)', '978', 'Central America, Cayman Islands, Yucatán Peninsula', '$100\\xa0million', '7', '[citation needed]'], ['Chan-hom', 'October 4–16', '120 (75)', '970', 'Japan', 'None', 'None', ''], ['Delta', 'October 5–11', '230 (145)', '953', 'Jamaica, Nicaragua, Cayman Islands, Yucatán Peninsula, Gulf Coast of the United States, Southeastern United States, Northeastern United States', '$3\\xa0billion', '6', '[citation needed]'], ['Norbert', 'October 5–15', '85 (50)', '1001', 'None', 'None', 'None', ''], ['Linfa', 'October 9–12', '75 (45)', '996', 'Philippines, Vietnam, Cambodia, Laos Thailand, Myanmar', '$950\\xa0million', '137', '[citation needed]'], ['BOB 02', 'October 11–14', '55 (35)', '999', 'Andhra Pradesh, Puducherry, Telangana, Kerala, Karnataka, Maharashtra, Goa', '$681\\xa0million', '98', '[32]'], ['Nangka (Nika)', 'October 11–14', '85 (50)', '990', 'Philippines, South China, Vietnam, Laos,', '$16.9\\xa0million', '4', '[citation needed]'], ['Ofel', 'October 13–16', '55 (35)', '1002', 'Philippines, Vietnam', '$27.9\\xa0million', '10', '[citation needed]'], ['ARB 03', 'October 17–19', '45 (30)', '1000', 'Maharashtra', 'Minimal', 'None', '[citation needed]'], ['Saudel (Pepito)', 'October 19–26', '130 (80)', '965', 'Philippines, South China', '$15.2\\xa0million', 'None', '[citation needed]'], ['Epsilon', 'October 19–26', '185 (115)', '951', 'Bermuda', 'Minimal', 'None', '[citation needed]'], ['20W', 'October 19–23', '55 (35)', '1008', 'Japan', 'None', 'None', ''], ['BOB 03', 'October 22–24', '45 (30)', '1000', 'West Bengal, Bangladesh, Northeast India', 'Minimal', 'None', '[citation needed]'], ['Molave (Quinta)', 'October 23–28', '155 (100)', '950', 'Philippines, Spratly Islands, Vietnam, Laos, Cambodia, Thailand, Malaysia, Myanmar', '$660\\xa0million', '71', '[citation needed]'], ['Zeta', 'October 24–29', '185 (115)', '970', 'Cayman Islands, Jamaica, Central America, Yucatán Peninsula, Gulf Coast of the United States, Southeastern United States, Mid-Atlantic, New England, Ireland, United Kingdom', '$4.4\\xa0billion', '8', '[citation needed]'], ['Mani', 'October 25–28', '65 (40)', '1004', 'Brazil', 'None', 'None', ''], ['Goni (Rolly)', 'October 26 – November 6', '220 (140)', '905', 'Philippines, Vietnam, Cambodia Laos', '$1.04\\xa0billion', '32', '[citation needed]'], ['Atsani (Siony)', 'October 29 – November 7', '95 (60)', '994', 'Mariana Islands Philippines Taiwan, South China', '$101 thousand', 'None', '[citation needed]'], ['Eta', 'October 31 – November 13', '240 (150)', '922', 'ABC Islands, Jamaica, San Andrés and Providencia, Central America, Mexico, Cayman Islands, Cuba, The Bahamas, Southeastern United States', '$8.3\\xa0billion', '175', '[citation needed]'], ['Odalys', 'November 3–6', '85 (50)', '1000', 'None', 'None', 'None', ''], ['Etau (Tonyo)', 'November 7–11', '85 (50)', '992', 'Philippines, Vietnam Cambodia', '$34.8\\xa0million', '3', '[citation needed]'], ['Vamco (Ulysses)', 'November 8–15', '155 (100)', '950', 'Philippines, Vietnam, Laos, Thailand', '$440.8\\xa0million', '102', '[citation needed]'], ['Theta', 'November 10–15', '110 (70)', '989', 'Canary Islands, Madeira', 'None', 'None', ''], ['Alicia', 'November 12–17', '130 (80)', '975', 'None', 'None', 'None', ''], ['Iota', 'November 13–18', '250 (155)', '917', 'ABC Islands, Venezuela, Colombia, San Andrés and Providencia, Central America, Mexico', '$1.4\\xa0billion', '61', '[citation needed]'], ['02', 'November 15–17', '55 (35)', '999', 'None', 'None', 'None', ''], ['Polo', 'November 17–19', '75 (45)', '1004', 'None', 'None', 'None', ''], ['Gati', 'November 21–24', '140 (85)', '978', 'Somalia, Yemen, Djibouti', '$1\\xa0million', '9', '[citation needed]'], ['Nivar', 'November 23–27', '120 (75)', '980', 'Andhra Pradesh, Tamil Nadu, Puducherry, Sri Lanka', '$600\\xa0million', '14', '[citation needed]'], ['Bongoyo', 'November 24 – December 11', '100 (65)', '988', 'Cocos Islands', 'None', 'None', ''], ['Burevi', 'November 30 – December 5', '85 (50)', '996', 'Sri Lanka, Tamil Nadu, Kerala', 'Unknown', '11', '[citation needed]'], ['TD', 'December 5–6', 'Not specified', '1010', 'None', 'None', 'None', ''], ['02U', 'December 6–12', '75 (45)', '991', 'Sumatra, Java, Christmas Island', 'None', 'None', ''], ['TL', 'December 7–11', '55 (35)', '997', 'Western Australia, Northern Territory, South Australia', 'None', 'None', ''], ['01F', 'December 8–12', '55 (35)', '998', 'Fiji, Rotuma', 'None', 'None', ''], ['Yasa', 'December 11–21', '230 (145)', '917', 'Rotuma, Vanuatu, Fiji', '$246.7\\xa0million', '4', '[33]'], ['Zazu', 'December 11–16', '95 (60)', '980', 'American Samoa, Niue, Tonga', 'Minimal', 'Unknown', '[citation needed]'], ['Krovanh (Vicky)', 'December 17–24', '65 (40)', '1000', 'Philippines, Malaysia, Thailand', '$4.48\\xa0million', '9', '[citation needed]'], ['03U', 'December 18–23', '55 (35)', '993', 'Top End, Kimberley', 'None', 'None', ''], ['Chalane', 'December 19–30', '110 (70)', '983', 'Madagascar, Mozambique, Zimbabwe, Botswana', 'Unknown', '7', '[34]'], ['05', 'December 20 – January 3, 2021', '55 (35)', '998', 'Cocos Islands', 'None', 'None', ''], ['Danilo', 'December 28 – January 12, 2021', '100 (65)', '981', 'Chagos Archipelago', 'None', 'None', ''], ['Oquira', 'December 28–31', '65 (40)', '998', 'Argentina, Brazil, Uruguay', 'None', 'None', ''], ['TD', 'December 29', 'Not specified', '1004', 'None', 'None', 'None', '']]\n"
     ]
    }
   ],
   "source": [
    "raw_data = []\n",
    "\n",
    "for i in range(12):\n",
    "    table = final_table[i].find_all('tr')\n",
    "    for row in table:\n",
    "        data = row.find_all('td')\n",
    "        final_data = [dp.text.strip() for dp in data]\n",
    "\n",
    "        if len(final_data) == 0:\n",
    "            continue\n",
    "        \n",
    "        raw_data.append(final_data);\n",
    "\n",
    "print(raw_data)"
   ]
  },
  {
   "cell_type": "markdown",
   "id": "5b2a69d8",
   "metadata": {},
   "source": [
    "### Create the csv file"
   ]
  },
  {
   "cell_type": "code",
   "execution_count": 208,
   "id": "09cf159e",
   "metadata": {},
   "outputs": [],
   "source": [
    "with open('world_cyclones.csv', 'w', newline=\"\") as output:\n",
    "    writer = csv.writer(output)\n",
    "    writer.writerow(headers)\n",
    "    writer.writerows(raw_data)"
   ]
  },
  {
   "cell_type": "markdown",
   "id": "7f9b7d10",
   "metadata": {},
   "source": [
    "### Load the csv file we created"
   ]
  },
  {
   "cell_type": "code",
   "execution_count": 209,
   "id": "02cf5b57",
   "metadata": {
    "scrolled": false
   },
   "outputs": [
    {
     "data": {
      "text/html": [
       "<div>\n",
       "<style scoped>\n",
       "    .dataframe tbody tr th:only-of-type {\n",
       "        vertical-align: middle;\n",
       "    }\n",
       "\n",
       "    .dataframe tbody tr th {\n",
       "        vertical-align: top;\n",
       "    }\n",
       "\n",
       "    .dataframe thead th {\n",
       "        text-align: right;\n",
       "    }\n",
       "</style>\n",
       "<table border=\"1\" class=\"dataframe\">\n",
       "  <thead>\n",
       "    <tr style=\"text-align: right;\">\n",
       "      <th></th>\n",
       "      <th>Storm name</th>\n",
       "      <th>Dates active</th>\n",
       "      <th>Max wind</th>\n",
       "      <th>Pressure</th>\n",
       "      <th>Areas affected</th>\n",
       "      <th>Damage</th>\n",
       "      <th>Deaths</th>\n",
       "      <th>Refs</th>\n",
       "    </tr>\n",
       "  </thead>\n",
       "  <tbody>\n",
       "    <tr>\n",
       "      <th>0</th>\n",
       "      <td>Blake</td>\n",
       "      <td>January 4–11</td>\n",
       "      <td>75 (45)</td>\n",
       "      <td>986</td>\n",
       "      <td>Western Australia</td>\n",
       "      <td>Minor</td>\n",
       "      <td>None</td>\n",
       "      <td>NaN</td>\n",
       "    </tr>\n",
       "    <tr>\n",
       "      <th>1</th>\n",
       "      <td>Claudia</td>\n",
       "      <td>January 4–17</td>\n",
       "      <td>150 (90)</td>\n",
       "      <td>963</td>\n",
       "      <td>Eastern Indonesia, Top End, Kimberley</td>\n",
       "      <td>None</td>\n",
       "      <td>None</td>\n",
       "      <td>NaN</td>\n",
       "    </tr>\n",
       "    <tr>\n",
       "      <th>2</th>\n",
       "      <td>Tino</td>\n",
       "      <td>January 11–20</td>\n",
       "      <td>120 (75)</td>\n",
       "      <td>970</td>\n",
       "      <td>Solomon Islands, Vanuatu, Fiji, Wallis and Fut...</td>\n",
       "      <td>$5.83 million</td>\n",
       "      <td>2</td>\n",
       "      <td>[17]</td>\n",
       "    </tr>\n",
       "    <tr>\n",
       "      <th>3</th>\n",
       "      <td>05</td>\n",
       "      <td>January 19–23</td>\n",
       "      <td>55 (35)</td>\n",
       "      <td>999</td>\n",
       "      <td>None</td>\n",
       "      <td>None</td>\n",
       "      <td>None</td>\n",
       "      <td>NaN</td>\n",
       "    </tr>\n",
       "    <tr>\n",
       "      <th>4</th>\n",
       "      <td>Diane</td>\n",
       "      <td>January 22–26</td>\n",
       "      <td>75 (45)</td>\n",
       "      <td>990</td>\n",
       "      <td>Madagascar, Mauritius, Réunion</td>\n",
       "      <td>Unknown</td>\n",
       "      <td>31</td>\n",
       "      <td>[18]</td>\n",
       "    </tr>\n",
       "    <tr>\n",
       "      <th>5</th>\n",
       "      <td>Kurumí</td>\n",
       "      <td>January 23–25</td>\n",
       "      <td>65 (40)</td>\n",
       "      <td>998</td>\n",
       "      <td>São Paulo, Minas Gerais, Espírito Santo, Rio d...</td>\n",
       "      <td>Unknown</td>\n",
       "      <td>70</td>\n",
       "      <td>[19]</td>\n",
       "    </tr>\n",
       "    <tr>\n",
       "      <th>6</th>\n",
       "      <td>Esami</td>\n",
       "      <td>January 23–26</td>\n",
       "      <td>85 (50)</td>\n",
       "      <td>990</td>\n",
       "      <td>Rodrigues</td>\n",
       "      <td>None</td>\n",
       "      <td>None</td>\n",
       "      <td>NaN</td>\n",
       "    </tr>\n",
       "    <tr>\n",
       "      <th>7</th>\n",
       "      <td>04U</td>\n",
       "      <td>January 23–30</td>\n",
       "      <td>Unspecified</td>\n",
       "      <td>998</td>\n",
       "      <td>Northern Territory, Queensland</td>\n",
       "      <td>None</td>\n",
       "      <td>None</td>\n",
       "      <td>NaN</td>\n",
       "    </tr>\n",
       "    <tr>\n",
       "      <th>8</th>\n",
       "      <td>05F</td>\n",
       "      <td>January 24–26</td>\n",
       "      <td>Unspecified</td>\n",
       "      <td>1003</td>\n",
       "      <td>Samoan Islands</td>\n",
       "      <td>None</td>\n",
       "      <td>None</td>\n",
       "      <td>NaN</td>\n",
       "    </tr>\n",
       "    <tr>\n",
       "      <th>9</th>\n",
       "      <td>TL</td>\n",
       "      <td>January 31 – February 4</td>\n",
       "      <td>Unspecified</td>\n",
       "      <td>1007</td>\n",
       "      <td>Christmas Island, Cocos Islands</td>\n",
       "      <td>None</td>\n",
       "      <td>None</td>\n",
       "      <td>NaN</td>\n",
       "    </tr>\n",
       "  </tbody>\n",
       "</table>\n",
       "</div>"
      ],
      "text/plain": [
       "  Storm name             Dates active     Max wind  Pressure  \\\n",
       "0      Blake             January 4–11      75 (45)       986   \n",
       "1    Claudia             January 4–17     150 (90)       963   \n",
       "2       Tino            January 11–20     120 (75)       970   \n",
       "3         05            January 19–23      55 (35)       999   \n",
       "4      Diane            January 22–26      75 (45)       990   \n",
       "5     Kurumí            January 23–25      65 (40)       998   \n",
       "6      Esami            January 23–26      85 (50)       990   \n",
       "7        04U            January 23–30  Unspecified       998   \n",
       "8        05F            January 24–26  Unspecified      1003   \n",
       "9         TL  January 31 – February 4  Unspecified      1007   \n",
       "\n",
       "                                      Areas affected         Damage Deaths  \\\n",
       "0                                  Western Australia          Minor   None   \n",
       "1              Eastern Indonesia, Top End, Kimberley           None   None   \n",
       "2  Solomon Islands, Vanuatu, Fiji, Wallis and Fut...  $5.83 million      2   \n",
       "3                                               None           None   None   \n",
       "4                     Madagascar, Mauritius, Réunion        Unknown     31   \n",
       "5  São Paulo, Minas Gerais, Espírito Santo, Rio d...        Unknown     70   \n",
       "6                                          Rodrigues           None   None   \n",
       "7                     Northern Territory, Queensland           None   None   \n",
       "8                                     Samoan Islands           None   None   \n",
       "9                    Christmas Island, Cocos Islands           None   None   \n",
       "\n",
       "   Refs  \n",
       "0   NaN  \n",
       "1   NaN  \n",
       "2  [17]  \n",
       "3   NaN  \n",
       "4  [18]  \n",
       "5  [19]  \n",
       "6   NaN  \n",
       "7   NaN  \n",
       "8   NaN  \n",
       "9   NaN  "
      ]
     },
     "execution_count": 209,
     "metadata": {},
     "output_type": "execute_result"
    }
   ],
   "source": [
    "df = pd.read_csv(\"world_cyclones.csv\")\n",
    "df.head(10)"
   ]
  },
  {
   "cell_type": "markdown",
   "id": "28243baa",
   "metadata": {},
   "source": [
    "#### Duplication Checks and Cleaning"
   ]
  },
  {
   "cell_type": "code",
   "execution_count": 195,
   "id": "dddcabe5",
   "metadata": {
    "scrolled": true
   },
   "outputs": [
    {
     "name": "stdout",
     "output_type": "stream",
     "text": [
      " Number of duplicates before : 0\n",
      " Number of duplicates after removing : 0\n"
     ]
    }
   ],
   "source": [
    "number_of_duplicates = df.duplicated().sum()\n",
    "print (f\" Number of duplicates before : {number_of_duplicates}\")\n",
    "\n",
    "# Delete duplicate rows\n",
    "df = df.drop_duplicates()\n",
    "\n",
    "number_of_duplicates = df.duplicated().sum()\n",
    "print (f\" Number of duplicates after removing : {number_of_duplicates}\")"
   ]
  },
  {
   "cell_type": "markdown",
   "id": "f3657c9e",
   "metadata": {},
   "source": [
    "#### Inspecting data and checking noisy entries"
   ]
  },
  {
   "cell_type": "code",
   "execution_count": 197,
   "id": "8b0d2710",
   "metadata": {},
   "outputs": [
    {
     "name": "stdout",
     "output_type": "stream",
     "text": [
      "<class 'pandas.core.frame.DataFrame'>\n",
      "Int64Index: 140 entries, 0 to 139\n",
      "Data columns (total 8 columns):\n",
      " #   Column              Non-Null Count  Dtype \n",
      "---  ------              --------------  ----- \n",
      " 0   Storm name          140 non-null    object\n",
      " 1   Dates active        140 non-null    object\n",
      " 2   Max windkm/h (mph)  140 non-null    object\n",
      " 3   Pressure(hPa)       140 non-null    int64 \n",
      " 4   Areas affected      140 non-null    object\n",
      " 5   Damage(USD)         140 non-null    object\n",
      " 6   Deaths              140 non-null    object\n",
      " 7   Refs                71 non-null     object\n",
      "dtypes: int64(1), object(7)\n",
      "memory usage: 9.8+ KB\n"
     ]
    }
   ],
   "source": [
    "df.info()"
   ]
  },
  {
   "cell_type": "markdown",
   "id": "e1bd3ee0",
   "metadata": {},
   "source": [
    "We see that there are 140 rows overall and 140 non-null entries. We are good to go!"
   ]
  },
  {
   "cell_type": "markdown",
   "id": "8c4b2f2f",
   "metadata": {},
   "source": [
    "# Step 3: Analysis: Summary and visualizations"
   ]
  },
  {
   "cell_type": "code",
   "execution_count": 211,
   "id": "4a3515b0",
   "metadata": {},
   "outputs": [
    {
     "data": {
      "text/plain": [
       "count     140.000000\n",
       "mean      984.907143\n",
       "std        24.003866\n",
       "min       905.000000\n",
       "25%       975.000000\n",
       "50%       994.000000\n",
       "75%      1001.000000\n",
       "max      1012.000000\n",
       "Name: Pressure, dtype: float64"
      ]
     },
     "execution_count": 211,
     "metadata": {},
     "output_type": "execute_result"
    }
   ],
   "source": [
    "pressure = df['Pressure']\n",
    "pressure.describe()"
   ]
  },
  {
   "cell_type": "code",
   "execution_count": 212,
   "id": "1d08c40d",
   "metadata": {},
   "outputs": [
    {
     "data": {
      "text/plain": [
       "<AxesSubplot:>"
      ]
     },
     "execution_count": 212,
     "metadata": {},
     "output_type": "execute_result"
    },
    {
     "data": {
      "image/png": "[encoded data removed]",
      "text/plain": [
       "<Figure size 640x480 with 1 Axes>"
      ]
     },
     "metadata": {},
     "output_type": "display_data"
    }
   ],
   "source": [
    "pressure.hist(bins=10)"
   ]
  },
  {
   "cell_type": "markdown",
   "id": "19f437b6",
   "metadata": {},
   "source": [
    "**Insights:** \n",
    "Based off this histogram we can see that the pressure of the cyclones generally fall between 990 to 1010 hPa."
   ]
  },
  {
   "cell_type": "code",
   "execution_count": 222,
   "id": "9af24c23",
   "metadata": {},
   "outputs": [
    {
     "data": {
      "text/plain": [
       "Text(0.5, 1.0, 'Cyclone pressure for 5 random days 2020')"
      ]
     },
     "execution_count": 222,
     "metadata": {},
     "output_type": "execute_result"
    },
    {
     "data": {
      "image/png": "[encoded data removed]",
      "text/plain": [
       "<Figure size 640x480 with 1 Axes>"
      ]
     },
     "metadata": {},
     "output_type": "display_data"
    }
   ],
   "source": [
    "five_random_days = [1,20,40,60,95]\n",
    "\n",
    "date_column = df[\"Dates active\"]\n",
    "temp_column = df[\"Pressure\"]\n",
    "\n",
    "selected_dates = []\n",
    "selected_temps = []\n",
    "\n",
    "for day_id in five_random_days:\n",
    "    selected_dates.append(date_column[day_id])\n",
    "    selected_temps.append(temp_column[day_id])\n",
    "    \n",
    "\n",
    "# Now plot our bar graph\n",
    "plt.bar(selected_dates, selected_temps, color ='maroon', width = 0.4)\n",
    "\n",
    "# Now add axis labels with units\n",
    "plt.xlabel(\"Date\")\n",
    "plt.ylabel(\"Pressure in hPa\")\n",
    "\n",
    "# We can add a title too\n",
    "plt.title(\"Cyclone pressure for 5 random days 2020\")"
   ]
  },
  {
   "cell_type": "markdown",
   "id": "c12b19db",
   "metadata": {},
   "source": [
    "**Insights:** \n",
    "Based off this histogram we can see that the pressure of the cyclones on 5 random days through out the year range from 950 to 980 hPa which is not far from the mean of 984.9."
   ]
  },
  {
   "cell_type": "code",
   "execution_count": 225,
   "id": "748b3de8",
   "metadata": {},
   "outputs": [
    {
     "data": {
      "text/plain": [
       "Text(0.5, 1.0, 'Max winds of cyclones in 2020')"
      ]
     },
     "execution_count": 225,
     "metadata": {},
     "output_type": "execute_result"
    },
    {
     "data": {
      "image/png": "[encoded data removed]",
      "text/plain": [
       "<Figure size 640x480 with 1 Axes>"
      ]
     },
     "metadata": {},
     "output_type": "display_data"
    }
   ],
   "source": [
    "day_ids = range(len(date_column)) # creates a variable 0,1,2...total_days\n",
    "temp_column = df[\"Max wind\"]\n",
    "\n",
    "plt.scatter(day_ids,temp_column, marker='.')\n",
    "\n",
    "plt.xlabel(\"Date\")\n",
    "plt.ylabel(\"Max wind in km/h\")\n",
    "\n",
    "plt.title(\"Max winds of cyclones in 2020\")"
   ]
  },
  {
   "cell_type": "markdown",
   "id": "f0218386",
   "metadata": {},
   "source": [
    "**Insights:** \n",
    "Based off this scatter plot we can see that the max winds of the cyclone throughout 2020 gradually increased as the year progressed reaching 250 km/h."
   ]
  },
  {
   "cell_type": "markdown",
   "id": "d5ab0cc8",
   "metadata": {},
   "source": [
    "### Summary\n",
    "Overall, the data quite surprised me as cyclone season usually ranges from November to April so I would have expected higher values during those times. The most important data points would be the numerical values such as the pressure and max winds."
   ]
  },
  {
   "cell_type": "code",
   "execution_count": null,
   "id": "24f1888e",
   "metadata": {},
   "outputs": [],
   "source": []
  }
 ],
 "metadata": {
  "kernelspec": {
   "display_name": "Python 3 (ipykernel)",
   "language": "python",
   "name": "python3"
  },
  "language_info": {
   "codemirror_mode": {
    "name": "ipython",
    "version": 3
   },
   "file_extension": ".py",
   "mimetype": "text/x-python",
   "name": "python",
   "nbconvert_exporter": "python",
   "pygments_lexer": "ipython3",
   "version": "3.9.13"
  }
 },
 "nbformat": 4,
 "nbformat_minor": 5
}
